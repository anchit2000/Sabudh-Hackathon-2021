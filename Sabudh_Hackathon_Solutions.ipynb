{
  "nbformat": 4,
  "nbformat_minor": 0,
  "metadata": {
    "colab": {
      "name": "Sabudh Hackathon Solutions.ipynb",
      "provenance": [],
      "collapsed_sections": []
    },
    "kernelspec": {
      "name": "python3",
      "display_name": "Python 3"
    },
    "language_info": {
      "name": "python"
    }
  },
  "cells": [
    {
      "cell_type": "markdown",
      "metadata": {
        "id": "9cnPL0kmzJGn"
      },
      "source": [
        "# Pattern printing"
      ]
    },
    {
      "cell_type": "code",
      "metadata": {
        "colab": {
          "base_uri": "https://localhost:8080/"
        },
        "id": "GuRmUXntyFGi",
        "outputId": "39da24e4-8552-4bf7-f970-f8e9259780f6"
      },
      "source": [
        "master_list = []\n",
        "while True:\n",
        "    statement = input()\n",
        "    if statement == '-1':\n",
        "        break\n",
        "    statement = statement.lower()\n",
        "    master_list.append(statement)\n",
        "\n",
        "dic_alpha = {}\n",
        "count = 1\n",
        "for i in 'abcdefghijklmnopqrstuvwxyz':\n",
        "    dic_alpha[i] = count\n",
        "    count+=1\n",
        "master_master_list = []  \n",
        "for i in master_list:\n",
        "    sum = 0\n",
        "    for alpha in i:\n",
        "        sum+=dic_alpha[alpha]\n",
        "    # print(sum)\n",
        "    len_i = sum\n",
        "    while len_i > 12:\n",
        "        len_i = len_i//2 \n",
        "    # print(len_i)\n",
        "    if len_i % 2 != 0:\n",
        "        num_rows = ((2 * len_i) + 1)//3\n",
        "    else:\n",
        "        num_rows = len_i // 2\n",
        "    # print(num_rows)    \n",
        "    pattern_list = []\n",
        "    \n",
        "    for row in range((num_rows//2)+1):\n",
        "        row_patt = \"\"\n",
        "        for _ in range(row):\n",
        "            row_patt+=\"* \"\n",
        "            \n",
        "        pattern_list.append(row_patt)\n",
        "    for row in range((num_rows//2)+1,0,-1):\n",
        "        row_patt = \"\"\n",
        "        for _ in range(row):\n",
        "            row_patt+=\"* \"\n",
        "        pattern_list.append(row_patt)\n",
        "        \n",
        "    pattern_list = [i.strip() for i in pattern_list]\n",
        "    \n",
        "    while \"\" in pattern_list:\n",
        "        pattern_list.remove(\"\")\n",
        "    \n",
        "    for row in pattern_list:\n",
        "        print(row)\n",
        "        \n",
        "    # print(pattern_list)"
      ],
      "execution_count": null,
      "outputs": [
        {
          "output_type": "stream",
          "name": "stdout",
          "text": [
            "sabudh\n",
            "NonProfit\n",
            "-1\n",
            "*\n",
            "* *\n",
            "*\n",
            "*\n",
            "* *\n",
            "* * *\n",
            "* *\n",
            "*\n"
          ]
        }
      ]
    },
    {
      "cell_type": "code",
      "metadata": {
        "colab": {
          "base_uri": "https://localhost:8080/"
        },
        "id": "t7vY13BCjVa2",
        "outputId": "161c4cad-6218-4979-bb96-eeac04aa0f70"
      },
      "source": [
        "string = \"  anchit  hello  \"\n",
        "print(string)\n",
        "print(string.strip())"
      ],
      "execution_count": null,
      "outputs": [
        {
          "output_type": "stream",
          "name": "stdout",
          "text": [
            "  anchit  hello  \n",
            "anchit  hello\n"
          ]
        }
      ]
    },
    {
      "cell_type": "markdown",
      "metadata": {
        "id": "ixzJ0Uu2zNGn"
      },
      "source": [
        "# Matrix Multiplication"
      ]
    },
    {
      "cell_type": "code",
      "metadata": {
        "id": "Gm6fOVrKzIO1"
      },
      "source": [
        "def mat_mul():\n",
        "    n = int(input())\n",
        "\n",
        "    if n>0:\n",
        "        # Entering one row at a time as a comma seperated values\n",
        "        A = []\n",
        "        for i in range(n):\n",
        "            r = input().split(\",\")\n",
        "            row = [int(e) for e in r]\n",
        "            if len(row)!=n:\n",
        "                return \"error\"\n",
        "            else:\n",
        "                A.append(row)\n",
        "\n",
        "        B = []\n",
        "        for i in range(n):\n",
        "            r = input().split(\",\")\n",
        "            row = [int(e) for e in r]\n",
        "            if len(row)!=n:\n",
        "                return 'error'\n",
        "            else:\n",
        "                B.append(row)\n",
        "\n",
        "        print('no. of rows: ',n)\n",
        "        print('A: ', A)\n",
        "        print('B: ', B)\n",
        "\n",
        "        # y = (x^2) - 2(x)\n",
        "        res = []\n",
        "        for i in range(len(A)):\n",
        "            ROW = []\n",
        "            for j in range(len(B[i])):\n",
        "                element = 0\n",
        "                for k in range(len(A[i])):\n",
        "                    element += A[i][k]*B[k][j]\n",
        "                    y = (element**2) - 2*element\n",
        "                ROW.append(y)\n",
        "            res.append(ROW)\n",
        "\n",
        "        return res\n",
        "    else:\n",
        "        return \"error\"\n",
        "\n",
        "\n",
        "# Credits Gopi Maguluri"
      ],
      "execution_count": null,
      "outputs": []
    },
    {
      "cell_type": "code",
      "metadata": {
        "colab": {
          "base_uri": "https://localhost:8080/"
        },
        "id": "OxyEpm59mKBg",
        "outputId": "c0ec1158-be15-49ff-a83a-f5d63f751b7d"
      },
      "source": [
        "list1 = [1,2,3,4]\n",
        "list1 = [i*i for i in list1]\n",
        "list1"
      ],
      "execution_count": null,
      "outputs": [
        {
          "output_type": "execute_result",
          "data": {
            "text/plain": [
              "[1, 4, 9, 16]"
            ]
          },
          "metadata": {},
          "execution_count": 5
        }
      ]
    },
    {
      "cell_type": "code",
      "metadata": {
        "colab": {
          "base_uri": "https://localhost:8080/"
        },
        "id": "pYlwfFqVmSk-",
        "outputId": "383f4cdb-5c2e-4707-b317-f96befcf45f3"
      },
      "source": [
        "list2 =[]\n",
        "for i in list1:\n",
        "  list2.append(i*i)\n",
        "\n",
        "list2\n"
      ],
      "execution_count": null,
      "outputs": [
        {
          "output_type": "execute_result",
          "data": {
            "text/plain": [
              "[1, 4, 9, 16]"
            ]
          },
          "metadata": {},
          "execution_count": 4
        }
      ]
    },
    {
      "cell_type": "markdown",
      "metadata": {
        "id": "6JLVkERdzP8W"
      },
      "source": [
        "# For loop to while loop"
      ]
    },
    {
      "cell_type": "code",
      "metadata": {
        "colab": {
          "base_uri": "https://localhost:8080/",
          "height": 278
        },
        "id": "ClKXVb1AyWmJ",
        "outputId": "dd7f1423-f06e-439c-a9b3-df5461701262"
      },
      "source": [
        "\n",
        "input_from_user = []\n",
        "\n",
        "while True:\n",
        "    state = input()\n",
        "    if state != 'finish':\n",
        "        input_from_user.append(state)\n",
        "        \n",
        "    else:\n",
        "        break\n",
        "    \n",
        "print(input_from_user)\n",
        "\n",
        "\n",
        "\n",
        "if 'range' in input_from_user[0]:\n",
        "    number_of_steps = input_from_user[0].split(\"(\")[1]\n",
        "    number_of_steps = number_of_steps.replace(\")\",\"\")\n",
        "    number_of_steps = number_of_steps.replace(\":\",\"\")\n",
        "    number_of_steps = int(number_of_steps)\n",
        "    print(number_of_steps)\n",
        "    \n",
        "    \n",
        "else:\n",
        "    number_of_steps = input_from_user[0].split(\"in\")[1].strip().replace(\":\",\"\")\n",
        "    number_of_steps = 'len(' + str(number_of_steps) + ')'\n",
        "    print(number_of_steps)\n",
        "    \n",
        "input_from_user = [i.strip() for i in input_from_user[1:]]\n",
        "\n",
        "print(\"********* Solution *********\")\n",
        "\n",
        "print(\"start = 0\")\n",
        "print(\"while(start < \" + str(number_of_steps) + \"):\")\n",
        "for i in input_from_user:\n",
        "    print(\"   \",i)\n",
        "print(\"    start+=1\")\n",
        "    \n",
        "'''\n",
        "start = 0\n",
        "while(start < number_of_steps):\n",
        "    ####  operations  ####\n",
        "    start+=1\n",
        "\n",
        "'''"
      ],
      "execution_count": null,
      "outputs": [
        {
          "output_type": "stream",
          "name": "stdout",
          "text": [
            "for i in range(10):\n",
            "    print(\"hello\")\n",
            "    a+=1\n",
            "print(a)\n",
            "finish\n",
            "['for i in range(10):', '    print(\"hello\")', '    a+=1', 'print(a)']\n",
            "10\n",
            "********* Solution *********\n",
            "start = 0\n",
            "while(start < 10):\n",
            "    print(\"hello\")\n",
            "    a+=1\n",
            "    print(a)\n",
            "    start+=1\n"
          ]
        },
        {
          "output_type": "execute_result",
          "data": {
            "application/vnd.google.colaboratory.intrinsic+json": {
              "type": "string"
            },
            "text/plain": [
              "'\\nstart = 0\\nwhile(start < number_of_steps):\\n    ####  operations  ####\\n    start+=1\\n\\n'"
            ]
          },
          "metadata": {},
          "execution_count": 2
        }
      ]
    },
    {
      "cell_type": "code",
      "metadata": {
        "id": "YkEbInvDysAl"
      },
      "source": [
        ""
      ],
      "execution_count": null,
      "outputs": []
    }
  ]
}